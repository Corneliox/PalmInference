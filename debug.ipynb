{
 "cells": [
  {
   "cell_type": "markdown",
   "id": "d51e389a",
   "metadata": {},
   "source": [
    "Check Wether Cam is available"
   ]
  },
  {
   "cell_type": "code",
   "execution_count": 1,
   "id": "8c516130",
   "metadata": {},
   "outputs": [
    {
     "name": "stdout",
     "output_type": "stream",
     "text": [
      "Frame read: True\n"
     ]
    }
   ],
   "source": [
    "import cv2\n",
    "cap = cv2.VideoCapture(0)\n",
    "ret, frame = cap.read()\n",
    "print(\"Frame read:\", ret)\n",
    "cap.release()\n"
   ]
  },
  {
   "cell_type": "markdown",
   "id": "800c3506",
   "metadata": {},
   "source": [
    "Check Camera Resolution Supported"
   ]
  },
  {
   "cell_type": "code",
   "execution_count": 1,
   "id": "f134289b",
   "metadata": {},
   "outputs": [
    {
     "name": "stdout",
     "output_type": "stream",
     "text": [
      "Resolution of camera 0: 640x480\n"
     ]
    }
   ],
   "source": [
    "import cv2\n",
    "\n",
    "def check_camera_resolution(camera_index=0):\n",
    "    \"\"\"\n",
    "    Checks the resolution of a connected camera.\n",
    "\n",
    "    Args:\n",
    "        camera_index (int): The index of the camera to check (default is 0).\n",
    "                           Typically, 0 is the built-in webcam, and 1 or higher\n",
    "                           might be external cameras.\n",
    "\n",
    "    Returns:\n",
    "        tuple or None: A tuple containing the width and height of the camera\n",
    "                       resolution if successful, otherwise None.\n",
    "    \"\"\"\n",
    "    try:\n",
    "        # Open the camera\n",
    "        cap = cv2.VideoCapture(camera_index)\n",
    "\n",
    "        # Check if the camera opened successfully\n",
    "        if not cap.isOpened():\n",
    "            print(f\"Error: Could not open camera with index {camera_index}\")\n",
    "            return None\n",
    "\n",
    "        # Get the width and height\n",
    "        width = int(cap.get(cv2.CAP_PROP_FRAME_WIDTH))\n",
    "        height = int(cap.get(cv2.CAP_PROP_FRAME_HEIGHT))\n",
    "\n",
    "        # Release the camera\n",
    "        cap.release()\n",
    "\n",
    "        return (width, height)\n",
    "\n",
    "    except Exception as e:\n",
    "        print(f\"An error occurred: {e}\")\n",
    "        return None\n",
    "\n",
    "if __name__ == \"__main__\":\n",
    "    camera_id = 0  # You can change this to check other cameras\n",
    "    resolution = check_camera_resolution(camera_id)\n",
    "\n",
    "    if resolution:\n",
    "        width, height = resolution\n",
    "        print(f\"Resolution of camera {camera_id}: {width}x{height}\")\n",
    "    else:\n",
    "        print(f\"Could not determine the resolution of camera {camera_id}.\")"
   ]
  }
 ],
 "metadata": {
  "kernelspec": {
   "display_name": "Python 3",
   "language": "python",
   "name": "python3"
  },
  "language_info": {
   "codemirror_mode": {
    "name": "ipython",
    "version": 3
   },
   "file_extension": ".py",
   "mimetype": "text/x-python",
   "name": "python",
   "nbconvert_exporter": "python",
   "pygments_lexer": "ipython3",
   "version": "3.12.1"
  }
 },
 "nbformat": 4,
 "nbformat_minor": 5
}
